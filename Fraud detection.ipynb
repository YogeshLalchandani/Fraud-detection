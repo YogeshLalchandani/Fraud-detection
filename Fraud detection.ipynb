{
 "cells": [
  {
   "cell_type": "code",
   "execution_count": 1,
   "id": "ded4e72d",
   "metadata": {},
   "outputs": [],
   "source": [
    "import numpy as np\n",
    "import pandas as pd"
   ]
  },
  {
   "cell_type": "code",
   "execution_count": 13,
   "id": "9391ed3c",
   "metadata": {},
   "outputs": [],
   "source": [
    "import matplotlib.pyplot as plt\n",
    "from matplotlib import style\n",
    "style.use('ggplot')\n",
    "import seaborn as sns\n",
    "%matplotlib inline"
   ]
  },
  {
   "cell_type": "code",
   "execution_count": 2,
   "id": "30f7d3c4",
   "metadata": {},
   "outputs": [],
   "source": [
    "df=pd.read_csv(\"Fraud.csv\",header=0)"
   ]
  },
  {
   "cell_type": "code",
   "execution_count": 3,
   "id": "e775e1ba",
   "metadata": {},
   "outputs": [
    {
     "data": {
      "text/html": [
       "<div>\n",
       "<style scoped>\n",
       "    .dataframe tbody tr th:only-of-type {\n",
       "        vertical-align: middle;\n",
       "    }\n",
       "\n",
       "    .dataframe tbody tr th {\n",
       "        vertical-align: top;\n",
       "    }\n",
       "\n",
       "    .dataframe thead th {\n",
       "        text-align: right;\n",
       "    }\n",
       "</style>\n",
       "<table border=\"1\" class=\"dataframe\">\n",
       "  <thead>\n",
       "    <tr style=\"text-align: right;\">\n",
       "      <th></th>\n",
       "      <th>step</th>\n",
       "      <th>type</th>\n",
       "      <th>amount</th>\n",
       "      <th>nameOrig</th>\n",
       "      <th>oldbalanceOrg</th>\n",
       "      <th>newbalanceOrig</th>\n",
       "      <th>nameDest</th>\n",
       "      <th>oldbalanceDest</th>\n",
       "      <th>newbalanceDest</th>\n",
       "      <th>isFraud</th>\n",
       "      <th>isFlaggedFraud</th>\n",
       "    </tr>\n",
       "  </thead>\n",
       "  <tbody>\n",
       "    <tr>\n",
       "      <th>0</th>\n",
       "      <td>1</td>\n",
       "      <td>PAYMENT</td>\n",
       "      <td>9839.64</td>\n",
       "      <td>C1231006815</td>\n",
       "      <td>170136.0</td>\n",
       "      <td>160296.36</td>\n",
       "      <td>M1979787155</td>\n",
       "      <td>0.0</td>\n",
       "      <td>0.0</td>\n",
       "      <td>0</td>\n",
       "      <td>0</td>\n",
       "    </tr>\n",
       "    <tr>\n",
       "      <th>1</th>\n",
       "      <td>1</td>\n",
       "      <td>PAYMENT</td>\n",
       "      <td>1864.28</td>\n",
       "      <td>C1666544295</td>\n",
       "      <td>21249.0</td>\n",
       "      <td>19384.72</td>\n",
       "      <td>M2044282225</td>\n",
       "      <td>0.0</td>\n",
       "      <td>0.0</td>\n",
       "      <td>0</td>\n",
       "      <td>0</td>\n",
       "    </tr>\n",
       "    <tr>\n",
       "      <th>2</th>\n",
       "      <td>1</td>\n",
       "      <td>TRANSFER</td>\n",
       "      <td>181.00</td>\n",
       "      <td>C1305486145</td>\n",
       "      <td>181.0</td>\n",
       "      <td>0.00</td>\n",
       "      <td>C553264065</td>\n",
       "      <td>0.0</td>\n",
       "      <td>0.0</td>\n",
       "      <td>1</td>\n",
       "      <td>0</td>\n",
       "    </tr>\n",
       "    <tr>\n",
       "      <th>3</th>\n",
       "      <td>1</td>\n",
       "      <td>CASH_OUT</td>\n",
       "      <td>181.00</td>\n",
       "      <td>C840083671</td>\n",
       "      <td>181.0</td>\n",
       "      <td>0.00</td>\n",
       "      <td>C38997010</td>\n",
       "      <td>21182.0</td>\n",
       "      <td>0.0</td>\n",
       "      <td>1</td>\n",
       "      <td>0</td>\n",
       "    </tr>\n",
       "    <tr>\n",
       "      <th>4</th>\n",
       "      <td>1</td>\n",
       "      <td>PAYMENT</td>\n",
       "      <td>11668.14</td>\n",
       "      <td>C2048537720</td>\n",
       "      <td>41554.0</td>\n",
       "      <td>29885.86</td>\n",
       "      <td>M1230701703</td>\n",
       "      <td>0.0</td>\n",
       "      <td>0.0</td>\n",
       "      <td>0</td>\n",
       "      <td>0</td>\n",
       "    </tr>\n",
       "  </tbody>\n",
       "</table>\n",
       "</div>"
      ],
      "text/plain": [
       "   step      type    amount     nameOrig  oldbalanceOrg  newbalanceOrig  \\\n",
       "0     1   PAYMENT   9839.64  C1231006815       170136.0       160296.36   \n",
       "1     1   PAYMENT   1864.28  C1666544295        21249.0        19384.72   \n",
       "2     1  TRANSFER    181.00  C1305486145          181.0            0.00   \n",
       "3     1  CASH_OUT    181.00   C840083671          181.0            0.00   \n",
       "4     1   PAYMENT  11668.14  C2048537720        41554.0        29885.86   \n",
       "\n",
       "      nameDest  oldbalanceDest  newbalanceDest  isFraud  isFlaggedFraud  \n",
       "0  M1979787155             0.0             0.0        0               0  \n",
       "1  M2044282225             0.0             0.0        0               0  \n",
       "2   C553264065             0.0             0.0        1               0  \n",
       "3    C38997010         21182.0             0.0        1               0  \n",
       "4  M1230701703             0.0             0.0        0               0  "
      ]
     },
     "execution_count": 3,
     "metadata": {},
     "output_type": "execute_result"
    }
   ],
   "source": [
    "df.head()"
   ]
  },
  {
   "cell_type": "code",
   "execution_count": 4,
   "id": "bfcdddf9",
   "metadata": {},
   "outputs": [
    {
     "data": {
      "text/plain": [
       "(6362620, 11)"
      ]
     },
     "execution_count": 4,
     "metadata": {},
     "output_type": "execute_result"
    }
   ],
   "source": [
    "df.shape"
   ]
  },
  {
   "cell_type": "code",
   "execution_count": 5,
   "id": "3ee7931e",
   "metadata": {},
   "outputs": [
    {
     "name": "stdout",
     "output_type": "stream",
     "text": [
      "<class 'pandas.core.frame.DataFrame'>\n",
      "RangeIndex: 6362620 entries, 0 to 6362619\n",
      "Data columns (total 11 columns):\n",
      " #   Column          Dtype  \n",
      "---  ------          -----  \n",
      " 0   step            int64  \n",
      " 1   type            object \n",
      " 2   amount          float64\n",
      " 3   nameOrig        object \n",
      " 4   oldbalanceOrg   float64\n",
      " 5   newbalanceOrig  float64\n",
      " 6   nameDest        object \n",
      " 7   oldbalanceDest  float64\n",
      " 8   newbalanceDest  float64\n",
      " 9   isFraud         int64  \n",
      " 10  isFlaggedFraud  int64  \n",
      "dtypes: float64(5), int64(3), object(3)\n",
      "memory usage: 534.0+ MB\n"
     ]
    }
   ],
   "source": [
    "df.info()"
   ]
  },
  {
   "cell_type": "code",
   "execution_count": 6,
   "id": "f01abb86",
   "metadata": {},
   "outputs": [
    {
     "data": {
      "text/html": [
       "<div>\n",
       "<style scoped>\n",
       "    .dataframe tbody tr th:only-of-type {\n",
       "        vertical-align: middle;\n",
       "    }\n",
       "\n",
       "    .dataframe tbody tr th {\n",
       "        vertical-align: top;\n",
       "    }\n",
       "\n",
       "    .dataframe thead th {\n",
       "        text-align: right;\n",
       "    }\n",
       "</style>\n",
       "<table border=\"1\" class=\"dataframe\">\n",
       "  <thead>\n",
       "    <tr style=\"text-align: right;\">\n",
       "      <th></th>\n",
       "      <th>step</th>\n",
       "      <th>amount</th>\n",
       "      <th>oldbalanceOrg</th>\n",
       "      <th>newbalanceOrig</th>\n",
       "      <th>oldbalanceDest</th>\n",
       "      <th>newbalanceDest</th>\n",
       "      <th>isFraud</th>\n",
       "      <th>isFlaggedFraud</th>\n",
       "    </tr>\n",
       "  </thead>\n",
       "  <tbody>\n",
       "    <tr>\n",
       "      <th>count</th>\n",
       "      <td>6.362620e+06</td>\n",
       "      <td>6.362620e+06</td>\n",
       "      <td>6.362620e+06</td>\n",
       "      <td>6.362620e+06</td>\n",
       "      <td>6.362620e+06</td>\n",
       "      <td>6.362620e+06</td>\n",
       "      <td>6.362620e+06</td>\n",
       "      <td>6.362620e+06</td>\n",
       "    </tr>\n",
       "    <tr>\n",
       "      <th>mean</th>\n",
       "      <td>2.433972e+02</td>\n",
       "      <td>1.798619e+05</td>\n",
       "      <td>8.338831e+05</td>\n",
       "      <td>8.551137e+05</td>\n",
       "      <td>1.100702e+06</td>\n",
       "      <td>1.224996e+06</td>\n",
       "      <td>1.290820e-03</td>\n",
       "      <td>2.514687e-06</td>\n",
       "    </tr>\n",
       "    <tr>\n",
       "      <th>std</th>\n",
       "      <td>1.423320e+02</td>\n",
       "      <td>6.038582e+05</td>\n",
       "      <td>2.888243e+06</td>\n",
       "      <td>2.924049e+06</td>\n",
       "      <td>3.399180e+06</td>\n",
       "      <td>3.674129e+06</td>\n",
       "      <td>3.590480e-02</td>\n",
       "      <td>1.585775e-03</td>\n",
       "    </tr>\n",
       "    <tr>\n",
       "      <th>min</th>\n",
       "      <td>1.000000e+00</td>\n",
       "      <td>0.000000e+00</td>\n",
       "      <td>0.000000e+00</td>\n",
       "      <td>0.000000e+00</td>\n",
       "      <td>0.000000e+00</td>\n",
       "      <td>0.000000e+00</td>\n",
       "      <td>0.000000e+00</td>\n",
       "      <td>0.000000e+00</td>\n",
       "    </tr>\n",
       "    <tr>\n",
       "      <th>25%</th>\n",
       "      <td>1.560000e+02</td>\n",
       "      <td>1.338957e+04</td>\n",
       "      <td>0.000000e+00</td>\n",
       "      <td>0.000000e+00</td>\n",
       "      <td>0.000000e+00</td>\n",
       "      <td>0.000000e+00</td>\n",
       "      <td>0.000000e+00</td>\n",
       "      <td>0.000000e+00</td>\n",
       "    </tr>\n",
       "    <tr>\n",
       "      <th>50%</th>\n",
       "      <td>2.390000e+02</td>\n",
       "      <td>7.487194e+04</td>\n",
       "      <td>1.420800e+04</td>\n",
       "      <td>0.000000e+00</td>\n",
       "      <td>1.327057e+05</td>\n",
       "      <td>2.146614e+05</td>\n",
       "      <td>0.000000e+00</td>\n",
       "      <td>0.000000e+00</td>\n",
       "    </tr>\n",
       "    <tr>\n",
       "      <th>75%</th>\n",
       "      <td>3.350000e+02</td>\n",
       "      <td>2.087215e+05</td>\n",
       "      <td>1.073152e+05</td>\n",
       "      <td>1.442584e+05</td>\n",
       "      <td>9.430367e+05</td>\n",
       "      <td>1.111909e+06</td>\n",
       "      <td>0.000000e+00</td>\n",
       "      <td>0.000000e+00</td>\n",
       "    </tr>\n",
       "    <tr>\n",
       "      <th>max</th>\n",
       "      <td>7.430000e+02</td>\n",
       "      <td>9.244552e+07</td>\n",
       "      <td>5.958504e+07</td>\n",
       "      <td>4.958504e+07</td>\n",
       "      <td>3.560159e+08</td>\n",
       "      <td>3.561793e+08</td>\n",
       "      <td>1.000000e+00</td>\n",
       "      <td>1.000000e+00</td>\n",
       "    </tr>\n",
       "  </tbody>\n",
       "</table>\n",
       "</div>"
      ],
      "text/plain": [
       "               step        amount  oldbalanceOrg  newbalanceOrig  \\\n",
       "count  6.362620e+06  6.362620e+06   6.362620e+06    6.362620e+06   \n",
       "mean   2.433972e+02  1.798619e+05   8.338831e+05    8.551137e+05   \n",
       "std    1.423320e+02  6.038582e+05   2.888243e+06    2.924049e+06   \n",
       "min    1.000000e+00  0.000000e+00   0.000000e+00    0.000000e+00   \n",
       "25%    1.560000e+02  1.338957e+04   0.000000e+00    0.000000e+00   \n",
       "50%    2.390000e+02  7.487194e+04   1.420800e+04    0.000000e+00   \n",
       "75%    3.350000e+02  2.087215e+05   1.073152e+05    1.442584e+05   \n",
       "max    7.430000e+02  9.244552e+07   5.958504e+07    4.958504e+07   \n",
       "\n",
       "       oldbalanceDest  newbalanceDest       isFraud  isFlaggedFraud  \n",
       "count    6.362620e+06    6.362620e+06  6.362620e+06    6.362620e+06  \n",
       "mean     1.100702e+06    1.224996e+06  1.290820e-03    2.514687e-06  \n",
       "std      3.399180e+06    3.674129e+06  3.590480e-02    1.585775e-03  \n",
       "min      0.000000e+00    0.000000e+00  0.000000e+00    0.000000e+00  \n",
       "25%      0.000000e+00    0.000000e+00  0.000000e+00    0.000000e+00  \n",
       "50%      1.327057e+05    2.146614e+05  0.000000e+00    0.000000e+00  \n",
       "75%      9.430367e+05    1.111909e+06  0.000000e+00    0.000000e+00  \n",
       "max      3.560159e+08    3.561793e+08  1.000000e+00    1.000000e+00  "
      ]
     },
     "execution_count": 6,
     "metadata": {},
     "output_type": "execute_result"
    }
   ],
   "source": [
    "df.describe()"
   ]
  },
  {
   "cell_type": "code",
   "execution_count": 7,
   "id": "2f8aa6dd",
   "metadata": {},
   "outputs": [
    {
     "data": {
      "text/plain": [
       "step              0\n",
       "type              0\n",
       "amount            0\n",
       "nameOrig          0\n",
       "oldbalanceOrg     0\n",
       "newbalanceOrig    0\n",
       "nameDest          0\n",
       "oldbalanceDest    0\n",
       "newbalanceDest    0\n",
       "isFraud           0\n",
       "isFlaggedFraud    0\n",
       "dtype: int64"
      ]
     },
     "execution_count": 7,
     "metadata": {},
     "output_type": "execute_result"
    }
   ],
   "source": [
    "df.isnull().sum()"
   ]
  },
  {
   "cell_type": "markdown",
   "id": "94773b67",
   "metadata": {},
   "source": [
    "There are no missing values"
   ]
  },
  {
   "cell_type": "code",
   "execution_count": 10,
   "id": "fccdbc03",
   "metadata": {},
   "outputs": [
    {
     "name": "stdout",
     "output_type": "stream",
     "text": [
      "CASH_OUT    2237500\n",
      "PAYMENT     2151495\n",
      "CASH_IN     1399284\n",
      "TRANSFER     532909\n",
      "DEBIT         41432\n",
      "Name: type, dtype: int64\n"
     ]
    },
    {
     "data": {
      "image/png": "[encoded data removed]",
      "text/plain": [
       "<Figure size 576x576 with 1 Axes>"
      ]
     },
     "metadata": {},
     "output_type": "display_data"
    }
   ],
   "source": [
    "# sns.countplot(x='type',data=df)\n",
    "print(df.type.value_counts())\n",
    "\n",
    "f, ax = plt.subplots(1, 1, figsize=(8, 8))\n",
    "df.type.value_counts().plot(kind='bar', title=\"Transaction type\", ax=ax, figsize=(8,8))\n",
    "plt.show()"
   ]
  },
  {
   "cell_type": "code",
   "execution_count": 9,
   "id": "81e24a2e",
   "metadata": {},
   "outputs": [],
   "source": [
    "df[\"isFraud\"]=df[\"isFraud\"].astype(\"category\")"
   ]
  },
  {
   "cell_type": "code",
   "execution_count": 10,
   "id": "716203c6",
   "metadata": {},
   "outputs": [
    {
     "data": {
      "text/html": [
       "<div>\n",
       "<style scoped>\n",
       "    .dataframe tbody tr th:only-of-type {\n",
       "        vertical-align: middle;\n",
       "    }\n",
       "\n",
       "    .dataframe tbody tr th {\n",
       "        vertical-align: top;\n",
       "    }\n",
       "\n",
       "    .dataframe thead th {\n",
       "        text-align: right;\n",
       "    }\n",
       "</style>\n",
       "<table border=\"1\" class=\"dataframe\">\n",
       "  <thead>\n",
       "    <tr style=\"text-align: right;\">\n",
       "      <th>isFraud</th>\n",
       "      <th>0</th>\n",
       "      <th>1</th>\n",
       "    </tr>\n",
       "    <tr>\n",
       "      <th>type</th>\n",
       "      <th></th>\n",
       "      <th></th>\n",
       "    </tr>\n",
       "  </thead>\n",
       "  <tbody>\n",
       "    <tr>\n",
       "      <th>CASH_IN</th>\n",
       "      <td>1399284</td>\n",
       "      <td>0</td>\n",
       "    </tr>\n",
       "    <tr>\n",
       "      <th>CASH_OUT</th>\n",
       "      <td>2233384</td>\n",
       "      <td>4116</td>\n",
       "    </tr>\n",
       "    <tr>\n",
       "      <th>DEBIT</th>\n",
       "      <td>41432</td>\n",
       "      <td>0</td>\n",
       "    </tr>\n",
       "    <tr>\n",
       "      <th>PAYMENT</th>\n",
       "      <td>2151495</td>\n",
       "      <td>0</td>\n",
       "    </tr>\n",
       "    <tr>\n",
       "      <th>TRANSFER</th>\n",
       "      <td>528812</td>\n",
       "      <td>4097</td>\n",
       "    </tr>\n",
       "  </tbody>\n",
       "</table>\n",
       "</div>"
      ],
      "text/plain": [
       "isFraud         0     1\n",
       "type                   \n",
       "CASH_IN   1399284     0\n",
       "CASH_OUT  2233384  4116\n",
       "DEBIT       41432     0\n",
       "PAYMENT   2151495     0\n",
       "TRANSFER   528812  4097"
      ]
     },
     "execution_count": 10,
     "metadata": {},
     "output_type": "execute_result"
    }
   ],
   "source": [
    "pd.crosstab(df['type'],df['isFraud'])"
   ]
  },
  {
   "cell_type": "markdown",
   "id": "66485155",
   "metadata": {},
   "source": [
    "We can see that fraud occurs only in CASH_OUT AND TRANSFER transactions. This is inline with the description given for 'isFraud' variable. This means that we can make a model only using TRANSFER and CASH_OUT types while directly returning result as 'notFraud' for other types using an if condition check."
   ]
  },
  {
   "cell_type": "code",
   "execution_count": 11,
   "id": "743cbe5b",
   "metadata": {},
   "outputs": [],
   "source": [
    "df[\"isFraud\"]=df[\"isFraud\"].astype(\"int\")"
   ]
  },
  {
   "cell_type": "code",
   "execution_count": 12,
   "id": "0c4c1818",
   "metadata": {},
   "outputs": [
    {
     "data": {
      "text/plain": [
       "<seaborn.axisgrid.JointGrid at 0x23418b53100>"
      ]
     },
     "execution_count": 12,
     "metadata": {},
     "output_type": "execute_result"
    },
    {
     "data": {
      "image/png": "[encoded data removed]",
      "text/plain": [
       "<Figure size 432x432 with 3 Axes>"
      ]
     },
     "metadata": {},
     "output_type": "display_data"
    }
   ],
   "source": [
    "sns.jointplot(x=\"amount\",y=\"isFraud\",data=df)"
   ]
  },
  {
   "cell_type": "code",
   "execution_count": 14,
   "id": "32f42fcf",
   "metadata": {},
   "outputs": [
    {
     "data": {
      "text/plain": [
       "<AxesSubplot:xlabel='isFraud', ylabel='count'>"
      ]
     },
     "execution_count": 14,
     "metadata": {},
     "output_type": "execute_result"
    },
    {
     "data": {
      "image/png": "[encoded data removed]",
      "text/plain": [
       "<Figure size 432x288 with 1 Axes>"
      ]
     },
     "metadata": {
      "needs_background": "light"
     },
     "output_type": "display_data"
    }
   ],
   "source": [
    "sns.countplot(x='isFraud',data=df)"
   ]
  },
  {
   "cell_type": "code",
   "execution_count": 15,
   "id": "fc0bf9a6",
   "metadata": {},
   "outputs": [
    {
     "data": {
      "text/plain": [
       "0    6354407\n",
       "1       8213\n",
       "Name: isFraud, dtype: int64"
      ]
     },
     "execution_count": 15,
     "metadata": {},
     "output_type": "execute_result"
    }
   ],
   "source": [
    "df[\"isFraud\"].value_counts()"
   ]
  },
  {
   "cell_type": "code",
   "execution_count": 16,
   "id": "1deae28b",
   "metadata": {},
   "outputs": [
    {
     "data": {
      "text/plain": [
       "<AxesSubplot:ylabel='amount'>"
      ]
     },
     "execution_count": 16,
     "metadata": {},
     "output_type": "execute_result"
    },
    {
     "data": {
      "image/png": "[encoded data removed]",
      "text/plain": [
       "<Figure size 432x288 with 1 Axes>"
      ]
     },
     "metadata": {
      "needs_background": "light"
     },
     "output_type": "display_data"
    }
   ],
   "source": [
    "sns.boxplot(y=\"amount\",data=df)"
   ]
  },
  {
   "cell_type": "code",
   "execution_count": 17,
   "id": "0d68955b",
   "metadata": {},
   "outputs": [
    {
     "data": {
      "text/plain": [
       "<AxesSubplot:ylabel='oldbalanceOrg'>"
      ]
     },
     "execution_count": 17,
     "metadata": {},
     "output_type": "execute_result"
    },
    {
     "data": {
      "image/png": "[encoded data removed]",
      "text/plain": [
       "<Figure size 432x288 with 1 Axes>"
      ]
     },
     "metadata": {
      "needs_background": "light"
     },
     "output_type": "display_data"
    }
   ],
   "source": [
    "sns.boxplot(y=\"oldbalanceOrg\",data=df)"
   ]
  },
  {
   "cell_type": "code",
   "execution_count": 18,
   "id": "43ba5430",
   "metadata": {},
   "outputs": [
    {
     "data": {
      "text/plain": [
       "<AxesSubplot:ylabel='newbalanceOrig'>"
      ]
     },
     "execution_count": 18,
     "metadata": {},
     "output_type": "execute_result"
    },
    {
     "data": {
      "image/png": "[encoded data removed]",
      "text/plain": [
       "<Figure size 432x288 with 1 Axes>"
      ]
     },
     "metadata": {
      "needs_background": "light"
     },
     "output_type": "display_data"
    }
   ],
   "source": [
    "sns.boxplot(y=\"newbalanceOrig\",data=df)"
   ]
  },
  {
   "cell_type": "markdown",
   "id": "16a830a4",
   "metadata": {},
   "source": [
    "Outlier treatment"
   ]
  },
  {
   "cell_type": "code",
   "execution_count": 20,
   "id": "41fc3ca7",
   "metadata": {},
   "outputs": [],
   "source": [
    "df_n=df[(df[\"type\"]==\"CASH_OUT\") | (df[\"type\"]==\"TRANSFER\")]"
   ]
  },
  {
   "cell_type": "code",
   "execution_count": 23,
   "id": "db38b0e5",
   "metadata": {},
   "outputs": [
    {
     "name": "stderr",
     "output_type": "stream",
     "text": [
      "<ipython-input-23-3034b0d9da8d>:1: SettingWithCopyWarning: \n",
      "A value is trying to be set on a copy of a slice from a DataFrame.\n",
      "Try using .loc[row_indexer,col_indexer] = value instead\n",
      "\n",
      "See the caveats in the documentation: https://pandas.pydata.org/pandas-docs/stable/user_guide/indexing.html#returning-a-view-versus-a-copy\n",
      "  df_n[\"c\"]=list(map(lambda x: x.startswith('C'),df_n[\"nameOrig\"]))\n"
     ]
    }
   ],
   "source": [
    "df_n[\"c\"]=list(map(lambda x: x.startswith('C'),df_n[\"nameOrig\"]))"
   ]
  },
  {
   "cell_type": "code",
   "execution_count": 25,
   "id": "ee5310f6",
   "metadata": {},
   "outputs": [
    {
     "name": "stderr",
     "output_type": "stream",
     "text": [
      "<ipython-input-25-1e535a4ad9b2>:1: SettingWithCopyWarning: \n",
      "A value is trying to be set on a copy of a slice from a DataFrame.\n",
      "Try using .loc[row_indexer,col_indexer] = value instead\n",
      "\n",
      "See the caveats in the documentation: https://pandas.pydata.org/pandas-docs/stable/user_guide/indexing.html#returning-a-view-versus-a-copy\n",
      "  df_n[\"d\"]=list(map(lambda x: x.startswith('C'),df_n[\"nameDest\"]))\n"
     ]
    }
   ],
   "source": [
    "df_n[\"d\"]=list(map(lambda x: x.startswith('C'),df_n[\"nameDest\"]))"
   ]
  },
  {
   "cell_type": "code",
   "execution_count": 26,
   "id": "92689ca3",
   "metadata": {},
   "outputs": [],
   "source": [
    "df_new=df_n[(df_n.c)&(df_n.d)]"
   ]
  },
  {
   "cell_type": "code",
   "execution_count": 27,
   "id": "6a687df2",
   "metadata": {},
   "outputs": [
    {
     "data": {
      "text/html": [
       "<div>\n",
       "<style scoped>\n",
       "    .dataframe tbody tr th:only-of-type {\n",
       "        vertical-align: middle;\n",
       "    }\n",
       "\n",
       "    .dataframe tbody tr th {\n",
       "        vertical-align: top;\n",
       "    }\n",
       "\n",
       "    .dataframe thead th {\n",
       "        text-align: right;\n",
       "    }\n",
       "</style>\n",
       "<table border=\"1\" class=\"dataframe\">\n",
       "  <thead>\n",
       "    <tr style=\"text-align: right;\">\n",
       "      <th></th>\n",
       "      <th>step</th>\n",
       "      <th>type</th>\n",
       "      <th>amount</th>\n",
       "      <th>nameOrig</th>\n",
       "      <th>oldbalanceOrg</th>\n",
       "      <th>newbalanceOrig</th>\n",
       "      <th>nameDest</th>\n",
       "      <th>oldbalanceDest</th>\n",
       "      <th>newbalanceDest</th>\n",
       "      <th>isFraud</th>\n",
       "      <th>isFlaggedFraud</th>\n",
       "      <th>c</th>\n",
       "      <th>d</th>\n",
       "    </tr>\n",
       "  </thead>\n",
       "  <tbody>\n",
       "    <tr>\n",
       "      <th>2</th>\n",
       "      <td>1</td>\n",
       "      <td>TRANSFER</td>\n",
       "      <td>181.00</td>\n",
       "      <td>C1305486145</td>\n",
       "      <td>181.0</td>\n",
       "      <td>0.0</td>\n",
       "      <td>C553264065</td>\n",
       "      <td>0.0</td>\n",
       "      <td>0.00</td>\n",
       "      <td>1</td>\n",
       "      <td>0</td>\n",
       "      <td>True</td>\n",
       "      <td>True</td>\n",
       "    </tr>\n",
       "    <tr>\n",
       "      <th>3</th>\n",
       "      <td>1</td>\n",
       "      <td>CASH_OUT</td>\n",
       "      <td>181.00</td>\n",
       "      <td>C840083671</td>\n",
       "      <td>181.0</td>\n",
       "      <td>0.0</td>\n",
       "      <td>C38997010</td>\n",
       "      <td>21182.0</td>\n",
       "      <td>0.00</td>\n",
       "      <td>1</td>\n",
       "      <td>0</td>\n",
       "      <td>True</td>\n",
       "      <td>True</td>\n",
       "    </tr>\n",
       "    <tr>\n",
       "      <th>15</th>\n",
       "      <td>1</td>\n",
       "      <td>CASH_OUT</td>\n",
       "      <td>229133.94</td>\n",
       "      <td>C905080434</td>\n",
       "      <td>15325.0</td>\n",
       "      <td>0.0</td>\n",
       "      <td>C476402209</td>\n",
       "      <td>5083.0</td>\n",
       "      <td>51513.44</td>\n",
       "      <td>0</td>\n",
       "      <td>0</td>\n",
       "      <td>True</td>\n",
       "      <td>True</td>\n",
       "    </tr>\n",
       "    <tr>\n",
       "      <th>19</th>\n",
       "      <td>1</td>\n",
       "      <td>TRANSFER</td>\n",
       "      <td>215310.30</td>\n",
       "      <td>C1670993182</td>\n",
       "      <td>705.0</td>\n",
       "      <td>0.0</td>\n",
       "      <td>C1100439041</td>\n",
       "      <td>22425.0</td>\n",
       "      <td>0.00</td>\n",
       "      <td>0</td>\n",
       "      <td>0</td>\n",
       "      <td>True</td>\n",
       "      <td>True</td>\n",
       "    </tr>\n",
       "    <tr>\n",
       "      <th>24</th>\n",
       "      <td>1</td>\n",
       "      <td>TRANSFER</td>\n",
       "      <td>311685.89</td>\n",
       "      <td>C1984094095</td>\n",
       "      <td>10835.0</td>\n",
       "      <td>0.0</td>\n",
       "      <td>C932583850</td>\n",
       "      <td>6267.0</td>\n",
       "      <td>2719172.89</td>\n",
       "      <td>0</td>\n",
       "      <td>0</td>\n",
       "      <td>True</td>\n",
       "      <td>True</td>\n",
       "    </tr>\n",
       "  </tbody>\n",
       "</table>\n",
       "</div>"
      ],
      "text/plain": [
       "    step      type     amount     nameOrig  oldbalanceOrg  newbalanceOrig  \\\n",
       "2      1  TRANSFER     181.00  C1305486145          181.0             0.0   \n",
       "3      1  CASH_OUT     181.00   C840083671          181.0             0.0   \n",
       "15     1  CASH_OUT  229133.94   C905080434        15325.0             0.0   \n",
       "19     1  TRANSFER  215310.30  C1670993182          705.0             0.0   \n",
       "24     1  TRANSFER  311685.89  C1984094095        10835.0             0.0   \n",
       "\n",
       "       nameDest  oldbalanceDest  newbalanceDest  isFraud  isFlaggedFraud  \\\n",
       "2    C553264065             0.0            0.00        1               0   \n",
       "3     C38997010         21182.0            0.00        1               0   \n",
       "15   C476402209          5083.0        51513.44        0               0   \n",
       "19  C1100439041         22425.0            0.00        0               0   \n",
       "24   C932583850          6267.0      2719172.89        0               0   \n",
       "\n",
       "       c     d  \n",
       "2   True  True  \n",
       "3   True  True  \n",
       "15  True  True  \n",
       "19  True  True  \n",
       "24  True  True  "
      ]
     },
     "execution_count": 27,
     "metadata": {},
     "output_type": "execute_result"
    }
   ],
   "source": [
    "df_new.head()"
   ]
  },
  {
   "cell_type": "code",
   "execution_count": 32,
   "id": "87514507",
   "metadata": {},
   "outputs": [],
   "source": [
    "df=df_new"
   ]
  },
  {
   "cell_type": "markdown",
   "id": "2db0a7e5",
   "metadata": {},
   "source": [
    "Outlier treatement"
   ]
  },
  {
   "cell_type": "code",
   "execution_count": 33,
   "id": "bcba7d8d",
   "metadata": {},
   "outputs": [],
   "source": [
    "uv1= np.percentile(df.amount,[99])[0]"
   ]
  },
  {
   "cell_type": "code",
   "execution_count": 34,
   "id": "c41fb300",
   "metadata": {},
   "outputs": [
    {
     "name": "stderr",
     "output_type": "stream",
     "text": [
      "<ipython-input-34-243ad5a54087>:1: SettingWithCopyWarning: \n",
      "A value is trying to be set on a copy of a slice from a DataFrame\n",
      "\n",
      "See the caveats in the documentation: https://pandas.pydata.org/pandas-docs/stable/user_guide/indexing.html#returning-a-view-versus-a-copy\n",
      "  df.amount[(df.amount>3*uv1)]=3*uv1\n"
     ]
    }
   ],
   "source": [
    "df.amount[(df.amount>3*uv1)]=3*uv1"
   ]
  },
  {
   "cell_type": "code",
   "execution_count": 35,
   "id": "4488a9d7",
   "metadata": {},
   "outputs": [
    {
     "name": "stderr",
     "output_type": "stream",
     "text": [
      "<ipython-input-35-05c6308c7528>:3: SettingWithCopyWarning: \n",
      "A value is trying to be set on a copy of a slice from a DataFrame\n",
      "\n",
      "See the caveats in the documentation: https://pandas.pydata.org/pandas-docs/stable/user_guide/indexing.html#returning-a-view-versus-a-copy\n",
      "  df.oldbalanceOrg[(df.oldbalanceOrg>3*uv2)]=3*uv2\n"
     ]
    }
   ],
   "source": [
    "uv2= np.percentile(df.oldbalanceOrg,[99])[0]\n",
    "\n",
    "df.oldbalanceOrg[(df.oldbalanceOrg>3*uv2)]=3*uv2"
   ]
  },
  {
   "cell_type": "code",
   "execution_count": 36,
   "id": "e8b77d04",
   "metadata": {},
   "outputs": [
    {
     "name": "stderr",
     "output_type": "stream",
     "text": [
      "<ipython-input-36-09b4c40523ba>:3: SettingWithCopyWarning: \n",
      "A value is trying to be set on a copy of a slice from a DataFrame\n",
      "\n",
      "See the caveats in the documentation: https://pandas.pydata.org/pandas-docs/stable/user_guide/indexing.html#returning-a-view-versus-a-copy\n",
      "  df.newbalanceOrig[(df.newbalanceOrig>3*uv3)]=3*uv3\n"
     ]
    }
   ],
   "source": [
    "uv3= np.percentile(df.newbalanceOrig,[99])[0]\n",
    "\n",
    "df.newbalanceOrig[(df.newbalanceOrig>3*uv3)]=3*uv3"
   ]
  },
  {
   "cell_type": "code",
   "execution_count": 37,
   "id": "ca382cdf",
   "metadata": {},
   "outputs": [],
   "source": [
    "df = pd.get_dummies(df,columns=[\"type\"],drop_first=True)"
   ]
  },
  {
   "cell_type": "code",
   "execution_count": 55,
   "id": "17ae4fea",
   "metadata": {},
   "outputs": [],
   "source": [
    "df[\"org_diff\"]=df[\"newbalanceOrig\"]-df[\"oldbalanceOrg\"]"
   ]
  },
  {
   "cell_type": "code",
   "execution_count": 56,
   "id": "b5f4ce47",
   "metadata": {},
   "outputs": [],
   "source": [
    "df[\"dest_diff\"]=df[\"oldbalanceDest\"]-df[\"newbalanceDest\"]"
   ]
  },
  {
   "cell_type": "code",
   "execution_count": 41,
   "id": "d736d13b",
   "metadata": {},
   "outputs": [],
   "source": [
    "del df[\"nameOrig\"]\n",
    "del df[\"nameDest\"]\n",
    "del df[\"c\"]\n",
    "del df[\"d\"]\n",
    "del df[\"isFlaggedFraud\"]"
   ]
  },
  {
   "cell_type": "code",
   "execution_count": 50,
   "id": "c2bb5392",
   "metadata": {},
   "outputs": [],
   "source": [
    "df.reset_index(inplace=True)  ### .reset_index(drop=True)"
   ]
  },
  {
   "cell_type": "code",
   "execution_count": 52,
   "id": "c441845a",
   "metadata": {},
   "outputs": [],
   "source": [
    "del df[\"index\"]"
   ]
  },
  {
   "cell_type": "code",
   "execution_count": 45,
   "id": "f63d59bb",
   "metadata": {},
   "outputs": [
    {
     "data": {
      "text/plain": [
       "(2770409, 10)"
      ]
     },
     "execution_count": 45,
     "metadata": {},
     "output_type": "execute_result"
    }
   ],
   "source": [
    "df.shape"
   ]
  },
  {
   "cell_type": "code",
   "execution_count": 57,
   "id": "d76a1f88",
   "metadata": {},
   "outputs": [
    {
     "data": {
      "text/html": [
       "<div>\n",
       "<style scoped>\n",
       "    .dataframe tbody tr th:only-of-type {\n",
       "        vertical-align: middle;\n",
       "    }\n",
       "\n",
       "    .dataframe tbody tr th {\n",
       "        vertical-align: top;\n",
       "    }\n",
       "\n",
       "    .dataframe thead th {\n",
       "        text-align: right;\n",
       "    }\n",
       "</style>\n",
       "<table border=\"1\" class=\"dataframe\">\n",
       "  <thead>\n",
       "    <tr style=\"text-align: right;\">\n",
       "      <th></th>\n",
       "      <th>step</th>\n",
       "      <th>amount</th>\n",
       "      <th>oldbalanceOrg</th>\n",
       "      <th>newbalanceOrig</th>\n",
       "      <th>oldbalanceDest</th>\n",
       "      <th>newbalanceDest</th>\n",
       "      <th>isFraud</th>\n",
       "      <th>type_TRANSFER</th>\n",
       "      <th>org_diff</th>\n",
       "      <th>dest_diff</th>\n",
       "    </tr>\n",
       "  </thead>\n",
       "  <tbody>\n",
       "    <tr>\n",
       "      <th>step</th>\n",
       "      <td>1.000000</td>\n",
       "      <td>0.044075</td>\n",
       "      <td>-0.012050</td>\n",
       "      <td>-0.026622</td>\n",
       "      <td>0.037778</td>\n",
       "      <td>0.037475</td>\n",
       "      <td>0.048671</td>\n",
       "      <td>0.016022</td>\n",
       "      <td>-0.006402</td>\n",
       "      <td>-0.013277</td>\n",
       "    </tr>\n",
       "    <tr>\n",
       "      <th>amount</th>\n",
       "      <td>0.044075</td>\n",
       "      <td>1.000000</td>\n",
       "      <td>0.073184</td>\n",
       "      <td>-0.049019</td>\n",
       "      <td>0.233987</td>\n",
       "      <td>0.406851</td>\n",
       "      <td>0.096664</td>\n",
       "      <td>0.432317</td>\n",
       "      <td>-0.158304</td>\n",
       "      <td>-0.776130</td>\n",
       "    </tr>\n",
       "    <tr>\n",
       "      <th>oldbalanceOrg</th>\n",
       "      <td>-0.012050</td>\n",
       "      <td>0.073184</td>\n",
       "      <td>1.000000</td>\n",
       "      <td>0.777608</td>\n",
       "      <td>-0.034445</td>\n",
       "      <td>-0.026943</td>\n",
       "      <td>0.302674</td>\n",
       "      <td>0.003415</td>\n",
       "      <td>-0.808574</td>\n",
       "      <td>-0.016585</td>\n",
       "    </tr>\n",
       "    <tr>\n",
       "      <th>newbalanceOrig</th>\n",
       "      <td>-0.026622</td>\n",
       "      <td>-0.049019</td>\n",
       "      <td>0.777608</td>\n",
       "      <td>1.000000</td>\n",
       "      <td>-0.021684</td>\n",
       "      <td>-0.027959</td>\n",
       "      <td>0.004841</td>\n",
       "      <td>-0.050710</td>\n",
       "      <td>-0.258802</td>\n",
       "      <td>0.033227</td>\n",
       "    </tr>\n",
       "    <tr>\n",
       "      <th>oldbalanceDest</th>\n",
       "      <td>0.037778</td>\n",
       "      <td>0.233987</td>\n",
       "      <td>-0.034445</td>\n",
       "      <td>-0.021684</td>\n",
       "      <td>1.000000</td>\n",
       "      <td>0.970060</td>\n",
       "      <td>-0.014960</td>\n",
       "      <td>0.099794</td>\n",
       "      <td>0.032624</td>\n",
       "      <td>-0.264405</td>\n",
       "    </tr>\n",
       "    <tr>\n",
       "      <th>newbalanceDest</th>\n",
       "      <td>0.037475</td>\n",
       "      <td>0.406851</td>\n",
       "      <td>-0.026943</td>\n",
       "      <td>-0.027959</td>\n",
       "      <td>0.970060</td>\n",
       "      <td>1.000000</td>\n",
       "      <td>-0.008978</td>\n",
       "      <td>0.157024</td>\n",
       "      <td>0.015228</td>\n",
       "      <td>-0.490709</td>\n",
       "    </tr>\n",
       "    <tr>\n",
       "      <th>isFraud</th>\n",
       "      <td>0.048671</td>\n",
       "      <td>0.096664</td>\n",
       "      <td>0.302674</td>\n",
       "      <td>0.004841</td>\n",
       "      <td>-0.014960</td>\n",
       "      <td>-0.008978</td>\n",
       "      <td>1.000000</td>\n",
       "      <td>0.042400</td>\n",
       "      <td>-0.460458</td>\n",
       "      <td>-0.018022</td>\n",
       "    </tr>\n",
       "    <tr>\n",
       "      <th>type_TRANSFER</th>\n",
       "      <td>0.016022</td>\n",
       "      <td>0.432317</td>\n",
       "      <td>0.003415</td>\n",
       "      <td>-0.050710</td>\n",
       "      <td>0.099794</td>\n",
       "      <td>0.157024</td>\n",
       "      <td>0.042400</td>\n",
       "      <td>1.000000</td>\n",
       "      <td>-0.052701</td>\n",
       "      <td>-0.265513</td>\n",
       "    </tr>\n",
       "    <tr>\n",
       "      <th>org_diff</th>\n",
       "      <td>-0.006402</td>\n",
       "      <td>-0.158304</td>\n",
       "      <td>-0.808574</td>\n",
       "      <td>-0.258802</td>\n",
       "      <td>0.032624</td>\n",
       "      <td>0.015228</td>\n",
       "      <td>-0.460458</td>\n",
       "      <td>-0.052701</td>\n",
       "      <td>1.000000</td>\n",
       "      <td>0.056574</td>\n",
       "    </tr>\n",
       "    <tr>\n",
       "      <th>dest_diff</th>\n",
       "      <td>-0.013277</td>\n",
       "      <td>-0.776130</td>\n",
       "      <td>-0.016585</td>\n",
       "      <td>0.033227</td>\n",
       "      <td>-0.264405</td>\n",
       "      <td>-0.490709</td>\n",
       "      <td>-0.018022</td>\n",
       "      <td>-0.265513</td>\n",
       "      <td>0.056574</td>\n",
       "      <td>1.000000</td>\n",
       "    </tr>\n",
       "  </tbody>\n",
       "</table>\n",
       "</div>"
      ],
      "text/plain": [
       "                    step    amount  oldbalanceOrg  newbalanceOrig  \\\n",
       "step            1.000000  0.044075      -0.012050       -0.026622   \n",
       "amount          0.044075  1.000000       0.073184       -0.049019   \n",
       "oldbalanceOrg  -0.012050  0.073184       1.000000        0.777608   \n",
       "newbalanceOrig -0.026622 -0.049019       0.777608        1.000000   \n",
       "oldbalanceDest  0.037778  0.233987      -0.034445       -0.021684   \n",
       "newbalanceDest  0.037475  0.406851      -0.026943       -0.027959   \n",
       "isFraud         0.048671  0.096664       0.302674        0.004841   \n",
       "type_TRANSFER   0.016022  0.432317       0.003415       -0.050710   \n",
       "org_diff       -0.006402 -0.158304      -0.808574       -0.258802   \n",
       "dest_diff      -0.013277 -0.776130      -0.016585        0.033227   \n",
       "\n",
       "                oldbalanceDest  newbalanceDest   isFraud  type_TRANSFER  \\\n",
       "step                  0.037778        0.037475  0.048671       0.016022   \n",
       "amount                0.233987        0.406851  0.096664       0.432317   \n",
       "oldbalanceOrg        -0.034445       -0.026943  0.302674       0.003415   \n",
       "newbalanceOrig       -0.021684       -0.027959  0.004841      -0.050710   \n",
       "oldbalanceDest        1.000000        0.970060 -0.014960       0.099794   \n",
       "newbalanceDest        0.970060        1.000000 -0.008978       0.157024   \n",
       "isFraud              -0.014960       -0.008978  1.000000       0.042400   \n",
       "type_TRANSFER         0.099794        0.157024  0.042400       1.000000   \n",
       "org_diff              0.032624        0.015228 -0.460458      -0.052701   \n",
       "dest_diff            -0.264405       -0.490709 -0.018022      -0.265513   \n",
       "\n",
       "                org_diff  dest_diff  \n",
       "step           -0.006402  -0.013277  \n",
       "amount         -0.158304  -0.776130  \n",
       "oldbalanceOrg  -0.808574  -0.016585  \n",
       "newbalanceOrig -0.258802   0.033227  \n",
       "oldbalanceDest  0.032624  -0.264405  \n",
       "newbalanceDest  0.015228  -0.490709  \n",
       "isFraud        -0.460458  -0.018022  \n",
       "type_TRANSFER  -0.052701  -0.265513  \n",
       "org_diff        1.000000   0.056574  \n",
       "dest_diff       0.056574   1.000000  "
      ]
     },
     "execution_count": 57,
     "metadata": {},
     "output_type": "execute_result"
    }
   ],
   "source": [
    "df.corr()"
   ]
  },
  {
   "cell_type": "code",
   "execution_count": 58,
   "id": "e9692b45",
   "metadata": {},
   "outputs": [
    {
     "data": {
      "text/plain": [
       "<AxesSubplot:title={'center':'Pearson Correlation of Features'}>"
      ]
     },
     "execution_count": 58,
     "metadata": {},
     "output_type": "execute_result"
    },
    {
     "data": {
      "image/png": "[encoded data removed]",
      "text/plain": [
       "<Figure size 720x576 with 2 Axes>"
      ]
     },
     "metadata": {
      "needs_background": "light"
     },
     "output_type": "display_data"
    }
   ],
   "source": [
    "colormap = plt.cm.RdBu\n",
    "plt.figure(figsize=(10,8))\n",
    "plt.title('Pearson Correlation of Features', size=15)\n",
    "sns.heatmap(df.corr(),linewidths=0.1,vmax=1.0, square=True, cmap=colormap, linecolor='white', annot=True)"
   ]
  },
  {
   "cell_type": "markdown",
   "id": "8a8cdb1e",
   "metadata": {},
   "source": [
    "As we can see that oldbalanceOrg and newbalanceOrig are highely correlated this can lead to multi-collinearity,so we will remove newbalanceOrig as it has low absolute value of correaltion with target variable(isFraud).similarly for oldbalanceDest\tand  newbalanceDest,we will remove newbalanceDest,and from amount and dest_diff we remove dest_diff,and from org_diff and oldbalanceOrig we remove oldbalanceOrig"
   ]
  },
  {
   "cell_type": "code",
   "execution_count": 59,
   "id": "77df4b7b",
   "metadata": {},
   "outputs": [],
   "source": [
    "del df[\"newbalanceOrig\"]\n",
    "del df[\"newbalanceDest\"]\n",
    "del df[\"dest_diff\"]\n",
    "del df[\"oldbalanceOrg\"]"
   ]
  },
  {
   "cell_type": "code",
   "execution_count": 60,
   "id": "68b4dc89",
   "metadata": {},
   "outputs": [
    {
     "data": {
      "text/html": [
       "<div>\n",
       "<style scoped>\n",
       "    .dataframe tbody tr th:only-of-type {\n",
       "        vertical-align: middle;\n",
       "    }\n",
       "\n",
       "    .dataframe tbody tr th {\n",
       "        vertical-align: top;\n",
       "    }\n",
       "\n",
       "    .dataframe thead th {\n",
       "        text-align: right;\n",
       "    }\n",
       "</style>\n",
       "<table border=\"1\" class=\"dataframe\">\n",
       "  <thead>\n",
       "    <tr style=\"text-align: right;\">\n",
       "      <th></th>\n",
       "      <th>step</th>\n",
       "      <th>amount</th>\n",
       "      <th>oldbalanceDest</th>\n",
       "      <th>isFraud</th>\n",
       "      <th>type_TRANSFER</th>\n",
       "      <th>org_diff</th>\n",
       "    </tr>\n",
       "  </thead>\n",
       "  <tbody>\n",
       "    <tr>\n",
       "      <th>0</th>\n",
       "      <td>1</td>\n",
       "      <td>181.00</td>\n",
       "      <td>0.0</td>\n",
       "      <td>1</td>\n",
       "      <td>1</td>\n",
       "      <td>-181.0</td>\n",
       "    </tr>\n",
       "    <tr>\n",
       "      <th>1</th>\n",
       "      <td>1</td>\n",
       "      <td>181.00</td>\n",
       "      <td>21182.0</td>\n",
       "      <td>1</td>\n",
       "      <td>0</td>\n",
       "      <td>-181.0</td>\n",
       "    </tr>\n",
       "    <tr>\n",
       "      <th>2</th>\n",
       "      <td>1</td>\n",
       "      <td>229133.94</td>\n",
       "      <td>5083.0</td>\n",
       "      <td>0</td>\n",
       "      <td>0</td>\n",
       "      <td>-15325.0</td>\n",
       "    </tr>\n",
       "    <tr>\n",
       "      <th>3</th>\n",
       "      <td>1</td>\n",
       "      <td>215310.30</td>\n",
       "      <td>22425.0</td>\n",
       "      <td>0</td>\n",
       "      <td>1</td>\n",
       "      <td>-705.0</td>\n",
       "    </tr>\n",
       "    <tr>\n",
       "      <th>4</th>\n",
       "      <td>1</td>\n",
       "      <td>311685.89</td>\n",
       "      <td>6267.0</td>\n",
       "      <td>0</td>\n",
       "      <td>1</td>\n",
       "      <td>-10835.0</td>\n",
       "    </tr>\n",
       "  </tbody>\n",
       "</table>\n",
       "</div>"
      ],
      "text/plain": [
       "   step     amount  oldbalanceDest  isFraud  type_TRANSFER  org_diff\n",
       "0     1     181.00             0.0        1              1    -181.0\n",
       "1     1     181.00         21182.0        1              0    -181.0\n",
       "2     1  229133.94          5083.0        0              0  -15325.0\n",
       "3     1  215310.30         22425.0        0              1    -705.0\n",
       "4     1  311685.89          6267.0        0              1  -10835.0"
      ]
     },
     "execution_count": 60,
     "metadata": {},
     "output_type": "execute_result"
    }
   ],
   "source": [
    "df.head()"
   ]
  },
  {
   "cell_type": "code",
   "execution_count": 61,
   "id": "714891d2",
   "metadata": {},
   "outputs": [
    {
     "data": {
      "text/plain": [
       "0    2762196\n",
       "1       8213\n",
       "Name: isFraud, dtype: int64"
      ]
     },
     "execution_count": 61,
     "metadata": {},
     "output_type": "execute_result"
    }
   ],
   "source": [
    "df[\"isFraud\"].value_counts()"
   ]
  },
  {
   "cell_type": "markdown",
   "id": "2585a424",
   "metadata": {},
   "source": [
    "As the target variable has very less values marked as 1 and rest others are 0, so we will use StratifiedShuffleSplit from sklearn"
   ]
  },
  {
   "cell_type": "code",
   "execution_count": 62,
   "id": "3fa02778",
   "metadata": {},
   "outputs": [],
   "source": [
    "from sklearn.model_selection import StratifiedShuffleSplit\n",
    "new_split=StratifiedShuffleSplit(n_splits=1,test_size=0.2,random_state=42)\n",
    "for train_index,test_index in new_split.split(df,df[\"isFraud\"]):\n",
    "    strat_train_set=df.loc[train_index]\n",
    "    strat_test_set=df.loc[test_index]"
   ]
  },
  {
   "cell_type": "code",
   "execution_count": 63,
   "id": "8628ced1",
   "metadata": {},
   "outputs": [
    {
     "data": {
      "text/plain": [
       "0    552439\n",
       "1      1643\n",
       "Name: isFraud, dtype: int64"
      ]
     },
     "execution_count": 63,
     "metadata": {},
     "output_type": "execute_result"
    }
   ],
   "source": [
    "strat_test_set[\"isFraud\"].value_counts()"
   ]
  },
  {
   "cell_type": "code",
   "execution_count": 64,
   "id": "9d955b5c",
   "metadata": {},
   "outputs": [
    {
     "data": {
      "text/plain": [
       "0    2209757\n",
       "1       6570\n",
       "Name: isFraud, dtype: int64"
      ]
     },
     "execution_count": 64,
     "metadata": {},
     "output_type": "execute_result"
    }
   ],
   "source": [
    "strat_train_set[\"isFraud\"].value_counts()"
   ]
  },
  {
   "cell_type": "code",
   "execution_count": 65,
   "id": "b3b6dff5",
   "metadata": {},
   "outputs": [
    {
     "data": {
      "text/html": [
       "<div>\n",
       "<style scoped>\n",
       "    .dataframe tbody tr th:only-of-type {\n",
       "        vertical-align: middle;\n",
       "    }\n",
       "\n",
       "    .dataframe tbody tr th {\n",
       "        vertical-align: top;\n",
       "    }\n",
       "\n",
       "    .dataframe thead th {\n",
       "        text-align: right;\n",
       "    }\n",
       "</style>\n",
       "<table border=\"1\" class=\"dataframe\">\n",
       "  <thead>\n",
       "    <tr style=\"text-align: right;\">\n",
       "      <th></th>\n",
       "      <th>step</th>\n",
       "      <th>amount</th>\n",
       "      <th>oldbalanceDest</th>\n",
       "      <th>isFraud</th>\n",
       "      <th>type_TRANSFER</th>\n",
       "      <th>org_diff</th>\n",
       "    </tr>\n",
       "  </thead>\n",
       "  <tbody>\n",
       "    <tr>\n",
       "      <th>2341146</th>\n",
       "      <td>375</td>\n",
       "      <td>71884.81</td>\n",
       "      <td>730831.13</td>\n",
       "      <td>0</td>\n",
       "      <td>0</td>\n",
       "      <td>0.00</td>\n",
       "    </tr>\n",
       "    <tr>\n",
       "      <th>2421446</th>\n",
       "      <td>382</td>\n",
       "      <td>222936.06</td>\n",
       "      <td>1166254.26</td>\n",
       "      <td>0</td>\n",
       "      <td>0</td>\n",
       "      <td>-222936.06</td>\n",
       "    </tr>\n",
       "    <tr>\n",
       "      <th>963237</th>\n",
       "      <td>185</td>\n",
       "      <td>284645.66</td>\n",
       "      <td>341292.97</td>\n",
       "      <td>0</td>\n",
       "      <td>0</td>\n",
       "      <td>-586.00</td>\n",
       "    </tr>\n",
       "    <tr>\n",
       "      <th>1140129</th>\n",
       "      <td>207</td>\n",
       "      <td>239069.35</td>\n",
       "      <td>162834.74</td>\n",
       "      <td>0</td>\n",
       "      <td>0</td>\n",
       "      <td>-10167.00</td>\n",
       "    </tr>\n",
       "    <tr>\n",
       "      <th>187133</th>\n",
       "      <td>18</td>\n",
       "      <td>193796.39</td>\n",
       "      <td>5183953.70</td>\n",
       "      <td>0</td>\n",
       "      <td>0</td>\n",
       "      <td>0.00</td>\n",
       "    </tr>\n",
       "  </tbody>\n",
       "</table>\n",
       "</div>"
      ],
      "text/plain": [
       "         step     amount  oldbalanceDest  isFraud  type_TRANSFER   org_diff\n",
       "2341146   375   71884.81       730831.13        0              0       0.00\n",
       "2421446   382  222936.06      1166254.26        0              0 -222936.06\n",
       "963237    185  284645.66       341292.97        0              0    -586.00\n",
       "1140129   207  239069.35       162834.74        0              0  -10167.00\n",
       "187133     18  193796.39      5183953.70        0              0       0.00"
      ]
     },
     "execution_count": 65,
     "metadata": {},
     "output_type": "execute_result"
    }
   ],
   "source": [
    "strat_train_set.head()"
   ]
  },
  {
   "cell_type": "code",
   "execution_count": 66,
   "id": "f83c7f12",
   "metadata": {},
   "outputs": [],
   "source": [
    "X_train=strat_train_set.loc[:,df.columns!=\"isFraud\"]\n",
    "X_test=strat_test_set.loc[:,df.columns!=\"isFraud\"]\n",
    "y_train=strat_train_set[\"isFraud\"]\n",
    "y_test=strat_test_set[\"isFraud\"]"
   ]
  },
  {
   "cell_type": "code",
   "execution_count": 67,
   "id": "efd7ca5a",
   "metadata": {},
   "outputs": [],
   "source": [
    "from sklearn.linear_model import LogisticRegression"
   ]
  },
  {
   "cell_type": "code",
   "execution_count": 68,
   "id": "94dfa3c3",
   "metadata": {},
   "outputs": [
    {
     "data": {
      "text/plain": [
       "LogisticRegression()"
      ]
     },
     "execution_count": 68,
     "metadata": {},
     "output_type": "execute_result"
    }
   ],
   "source": [
    "clf_lr= LogisticRegression()\n",
    "clf_lr.fit(X_train,y_train)"
   ]
  },
  {
   "cell_type": "code",
   "execution_count": 69,
   "id": "fa401bf0",
   "metadata": {},
   "outputs": [],
   "source": [
    "y_pred=clf_lr.predict(X_test)"
   ]
  },
  {
   "cell_type": "code",
   "execution_count": 70,
   "id": "4f98e6cc",
   "metadata": {},
   "outputs": [],
   "source": [
    "from sklearn.metrics import accuracy_score,confusion_matrix"
   ]
  },
  {
   "cell_type": "code",
   "execution_count": 71,
   "id": "3b6e3f31",
   "metadata": {},
   "outputs": [],
   "source": [
    "from sklearn.metrics import average_precision_score, precision_recall_curve, confusion_matrix, roc_curve, auc"
   ]
  },
  {
   "cell_type": "code",
   "execution_count": 72,
   "id": "1e8a2805",
   "metadata": {},
   "outputs": [
    {
     "data": {
      "text/plain": [
       "array([[550065,   2374],\n",
       "       [  1383,    260]], dtype=int64)"
      ]
     },
     "execution_count": 72,
     "metadata": {},
     "output_type": "execute_result"
    }
   ],
   "source": [
    "confusion_matrix(y_test, y_pred)"
   ]
  },
  {
   "cell_type": "code",
   "execution_count": 73,
   "id": "b213a541",
   "metadata": {},
   "outputs": [
    {
     "data": {
      "text/plain": [
       "0.993219415176815"
      ]
     },
     "execution_count": 73,
     "metadata": {},
     "output_type": "execute_result"
    }
   ],
   "source": [
    "accuracy_score(y_test, y_pred)"
   ]
  },
  {
   "cell_type": "markdown",
   "id": "5616678d",
   "metadata": {},
   "source": [
    "High accuracy is not a good metric to tell that model is good because the dataset contains very few values of target variable as 1 so the model may be predicting majorly values as 0"
   ]
  },
  {
   "cell_type": "code",
   "execution_count": 74,
   "id": "0db3d445",
   "metadata": {},
   "outputs": [],
   "source": [
    "from sklearn.metrics import precision_score,recall_score"
   ]
  },
  {
   "cell_type": "code",
   "execution_count": 75,
   "id": "4352ee7a",
   "metadata": {},
   "outputs": [
    {
     "data": {
      "text/plain": [
       "0.09870918754745633"
      ]
     },
     "execution_count": 75,
     "metadata": {},
     "output_type": "execute_result"
    }
   ],
   "source": [
    "precision_score(y_test,y_pred)"
   ]
  },
  {
   "cell_type": "code",
   "execution_count": 76,
   "id": "dc3701f0",
   "metadata": {},
   "outputs": [
    {
     "data": {
      "text/plain": [
       "0.15824710894704808"
      ]
     },
     "execution_count": 76,
     "metadata": {},
     "output_type": "execute_result"
    }
   ],
   "source": [
    "recall_score(y_test,y_pred)"
   ]
  },
  {
   "cell_type": "code",
   "execution_count": 77,
   "id": "f3df0a58",
   "metadata": {},
   "outputs": [],
   "source": [
    "from sklearn.metrics import roc_auc_score"
   ]
  },
  {
   "cell_type": "code",
   "execution_count": 78,
   "id": "d79646ec",
   "metadata": {},
   "outputs": [
    {
     "data": {
      "text/plain": [
       "0.5769749009570272"
      ]
     },
     "execution_count": 78,
     "metadata": {},
     "output_type": "execute_result"
    }
   ],
   "source": [
    "roc_auc_score(y_test,y_pred)"
   ]
  },
  {
   "cell_type": "markdown",
   "id": "dbe9a044",
   "metadata": {},
   "source": [
    "Selection of metric: I am using the area under the precision-recall curve (AUPRC)"
   ]
  },
  {
   "cell_type": "code",
   "execution_count": 79,
   "id": "016dc5b0",
   "metadata": {},
   "outputs": [],
   "source": [
    "probabilities = clf_lr.predict_proba(X_test)\n",
    "predictY = clf_lr.predict(X_test)"
   ]
  },
  {
   "cell_type": "code",
   "execution_count": 80,
   "id": "9157ab76",
   "metadata": {},
   "outputs": [
    {
     "name": "stdout",
     "output_type": "stream",
     "text": [
      "AUPRC = 0.0852952454241332\n",
      "ROC_AUC = 0.6740459229524802\n"
     ]
    }
   ],
   "source": [
    "print('AUPRC = {}'.format(average_precision_score(y_test, probabilities[:, 1])))\n",
    "\n",
    "fpr, tpr, threshold = roc_curve(y_test, probabilities[:,1])\n",
    "roc_auc = auc(fpr, tpr)\n",
    "\n",
    "print('ROC_AUC = {}'.format(roc_auc))"
   ]
  },
  {
   "cell_type": "code",
   "execution_count": 84,
   "id": "8be9358d",
   "metadata": {},
   "outputs": [
    {
     "data": {
      "text/plain": [
       "RandomForestClassifier(n_jobs=-1, random_state=42)"
      ]
     },
     "execution_count": 84,
     "metadata": {},
     "output_type": "execute_result"
    }
   ],
   "source": [
    "from sklearn.ensemble import RandomForestClassifier \n",
    "\n",
    "rf_clf= RandomForestClassifier(n_estimators=100,n_jobs=-1, random_state=42)\n",
    "\n",
    "rf_clf.fit(X_train,y_train)"
   ]
  },
  {
   "cell_type": "code",
   "execution_count": 85,
   "id": "7f3880a7",
   "metadata": {},
   "outputs": [],
   "source": [
    "probabilities = rf_clf.predict_proba(X_test)\n",
    "predictY = rf_clf.predict(X_test)"
   ]
  },
  {
   "cell_type": "code",
   "execution_count": 86,
   "id": "a87fc866",
   "metadata": {},
   "outputs": [
    {
     "name": "stdout",
     "output_type": "stream",
     "text": [
      "AUPRC = 0.7611373932240912\n",
      "ROC_AUC = 0.95191574550666\n"
     ]
    }
   ],
   "source": [
    "print('AUPRC = {}'.format(average_precision_score(y_test, probabilities[:, 1])))\n",
    "\n",
    "fpr, tpr, threshold = roc_curve(y_test, probabilities[:,1])\n",
    "roc_auc = auc(fpr, tpr)\n",
    "\n",
    "print('ROC_AUC = {}'.format(roc_auc))"
   ]
  },
  {
   "cell_type": "code",
   "execution_count": 87,
   "id": "fb9fa287",
   "metadata": {},
   "outputs": [
    {
     "data": {
      "text/plain": [
       "0.8796861377506539"
      ]
     },
     "execution_count": 87,
     "metadata": {},
     "output_type": "execute_result"
    }
   ],
   "source": [
    "precision_score(y_test,predictY)"
   ]
  },
  {
   "cell_type": "code",
   "execution_count": 88,
   "id": "db549f94",
   "metadata": {},
   "outputs": [
    {
     "data": {
      "text/plain": [
       "0.6141205112598904"
      ]
     },
     "execution_count": 88,
     "metadata": {},
     "output_type": "execute_result"
    }
   ],
   "source": [
    "recall_score(y_test,predictY)"
   ]
  },
  {
   "cell_type": "markdown",
   "id": "413f50a5",
   "metadata": {},
   "source": [
    "we see that random forest is performing better than logistic regression, here I have taken n_estimators=100 due to my low end pc, if we take more e.g 1000 we can get more ROC_AUC score"
   ]
  },
  {
   "cell_type": "code",
   "execution_count": 90,
   "id": "c2326ff1",
   "metadata": {},
   "outputs": [
    {
     "name": "stdout",
     "output_type": "stream",
     "text": [
      "ROC_AUC = 0.95191574550666\n"
     ]
    },
    {
     "data": {
      "image/png": "[encoded data removed]",
      "text/plain": [
       "<Figure size 432x288 with 1 Axes>"
      ]
     },
     "metadata": {
      "needs_background": "light"
     },
     "output_type": "display_data"
    }
   ],
   "source": [
    "fpr, tpr, threshold = roc_curve(y_test, probabilities[:,1])\n",
    "roc_auc = auc(fpr, tpr)\n",
    "\n",
    "print('ROC_AUC = {}'.format(roc_auc))\n",
    "\n",
    "plt.title('Receiver Operating Characteristic')\n",
    "plt.plot(fpr, tpr, 'b', label = 'AUC = %0.4f' % roc_auc)\n",
    "plt.legend(loc = 'lower right')\n",
    "plt.plot([0, 1], [0, 1],'r--')\n",
    "plt.xlim([0, 1])\n",
    "plt.ylim([0, 1])\n",
    "plt.ylabel('True Positive Rate')\n",
    "plt.xlabel('False Positive Rate')\n",
    "plt.show()"
   ]
  },
  {
   "cell_type": "markdown",
   "id": "42c73f4d",
   "metadata": {},
   "source": [
    "saving the dataset"
   ]
  },
  {
   "cell_type": "code",
   "execution_count": 94,
   "id": "3c923286",
   "metadata": {},
   "outputs": [],
   "source": [
    "df.to_csv('df_new.csv')"
   ]
  },
  {
   "cell_type": "markdown",
   "id": "0528e44a",
   "metadata": {},
   "source": [
    "saving the model"
   ]
  },
  {
   "cell_type": "code",
   "execution_count": 93,
   "id": "bb43951b",
   "metadata": {},
   "outputs": [],
   "source": [
    "import pickle\n",
    "rfFile = open('rfModel.pckl', 'wb')\n",
    "pickle.dump(rf_clf, rfFile)\n",
    "rfFile.close()"
   ]
  },
  {
   "cell_type": "markdown",
   "id": "475ddc1d",
   "metadata": {},
   "source": [
    "### XG Boost"
   ]
  },
  {
   "cell_type": "code",
   "execution_count": 95,
   "id": "21a7671f",
   "metadata": {},
   "outputs": [],
   "source": [
    "import xgboost as xgb"
   ]
  },
  {
   "cell_type": "markdown",
   "id": "191ae6ee",
   "metadata": {},
   "source": [
    "The below code is for XG boost model and hypertuning of parameters, I am unable to run it due to low system configuration it gets overheated"
   ]
  },
  {
   "cell_type": "code",
   "execution_count": null,
   "id": "53ba5222",
   "metadata": {},
   "outputs": [],
   "source": [
    "xgb_clf=xgb.XGBClassifier(max_depth=3,n_estimators=5000,learning_rate=0.3,n_jobs=-1)"
   ]
  },
  {
   "cell_type": "code",
   "execution_count": null,
   "id": "57a47420",
   "metadata": {},
   "outputs": [],
   "source": [
    "xgb_clf.fit(X_train,y_train)"
   ]
  },
  {
   "cell_type": "code",
   "execution_count": null,
   "id": "a2d46dc1",
   "metadata": {},
   "outputs": [],
   "source": [
    "precision_score(y_test,xgb_clf.predict(X_test))"
   ]
  },
  {
   "cell_type": "code",
   "execution_count": null,
   "id": "5bea20c1",
   "metadata": {},
   "outputs": [],
   "source": [
    "recall_score(y_test,xgb_clf.predict(X_test))"
   ]
  },
  {
   "cell_type": "code",
   "execution_count": null,
   "id": "254d6bcf",
   "metadata": {},
   "outputs": [],
   "source": [
    "roc_auc_score(y_test,xgb_clf.predict(X_test))"
   ]
  },
  {
   "cell_type": "code",
   "execution_count": null,
   "id": "cfa19cfa",
   "metadata": {},
   "outputs": [],
   "source": [
    "xgb.plot_importance(xgb_clf)"
   ]
  },
  {
   "cell_type": "code",
   "execution_count": null,
   "id": "2798c196",
   "metadata": {},
   "outputs": [],
   "source": [
    "probabilities = xgb_clf.predict_proba(X_test)\n",
    "predictY = xgb_clf.predict(X_test)\n",
    "print('AUPRC = {}'.format(average_precision_score(y_test, probabilities[:, 1])))\n",
    "\n",
    "fpr, tpr, threshold = roc_curve(y_test, probabilities[:,1])\n",
    "roc_auc = auc(fpr, tpr)\n",
    "\n",
    "print('ROC_AUC = {}'.format(roc_auc))"
   ]
  },
  {
   "cell_type": "markdown",
   "id": "201de879",
   "metadata": {},
   "source": [
    "Hypertuning the parameters using grid search cv"
   ]
  },
  {
   "cell_type": "code",
   "execution_count": null,
   "id": "79cc17dc",
   "metadata": {},
   "outputs": [],
   "source": [
    "xgb_clf2=xgb.XGBClassifier(n_estimators=250,learning_rate=0.1,random_state=42)"
   ]
  },
  {
   "cell_type": "code",
   "execution_count": null,
   "id": "6f853bd3",
   "metadata": {},
   "outputs": [],
   "source": [
    "param_test1 = {\n",
    "    'max_depth':range(3,10,2),\n",
    "    'gamma': [0.1,0.2,0.3],\n",
    "    'subsample':[0.8,0.9],\n",
    "    'colsample_bytree':[0.8,0.9],\n",
    "    'reg_alpha':[1e-2,0.1,1]\n",
    "}"
   ]
  },
  {
   "cell_type": "code",
   "execution_count": null,
   "id": "1540931d",
   "metadata": {},
   "outputs": [],
   "source": [
    "grid_search = GridSearchCV(xgb_clf2,param_test1,n_jobs=-1,cv=5,scoring='accuracy')"
   ]
  },
  {
   "cell_type": "code",
   "execution_count": null,
   "id": "93f1c40f",
   "metadata": {},
   "outputs": [],
   "source": [
    "grid_search.fit(X_train,y_train)"
   ]
  },
  {
   "cell_type": "code",
   "execution_count": null,
   "id": "854668dc",
   "metadata": {},
   "outputs": [],
   "source": [
    "grid_search.best_params_"
   ]
  },
  {
   "cell_type": "code",
   "execution_count": null,
   "id": "4b4fefc6",
   "metadata": {},
   "outputs": [],
   "source": [
    "cvxg_clf=grid_search.best_estimator_"
   ]
  },
  {
   "cell_type": "code",
   "execution_count": null,
   "id": "85bdfe4b",
   "metadata": {},
   "outputs": [],
   "source": [
    "accuracy_score(y_test,cvxg_clf.predict(X_test))"
   ]
  },
  {
   "cell_type": "code",
   "execution_count": null,
   "id": "7d3cf1a0",
   "metadata": {},
   "outputs": [],
   "source": [
    "probabilities = xgb_clf2.predict_proba(X_test)\n",
    "predictY = xgb_clf2.predict(X_test)\n",
    "print('AUPRC = {}'.format(average_precision_score(y_test, probabilities[:, 1])))\n",
    "\n",
    "fpr, tpr, threshold = roc_curve(y_test, probabilities[:,1])\n",
    "roc_auc = auc(fpr, tpr)\n",
    "\n",
    "print('ROC_AUC = {}'.format(roc_auc))"
   ]
  }
 ],
 "metadata": {
  "kernelspec": {
   "display_name": "Python 3",
   "language": "python",
   "name": "python3"
  },
  "language_info": {
   "codemirror_mode": {
    "name": "ipython",
    "version": 3
   },
   "file_extension": ".py",
   "mimetype": "text/x-python",
   "name": "python",
   "nbconvert_exporter": "python",
   "pygments_lexer": "ipython3",
   "version": "3.8.8"
  }
 },
 "nbformat": 4,
 "nbformat_minor": 5
}
